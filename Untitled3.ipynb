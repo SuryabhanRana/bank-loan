{
 "cells": [
  {
   "cell_type": "code",
   "execution_count": 1,
   "id": "bf08e9f0",
   "metadata": {},
   "outputs": [],
   "source": [
    "# Importing required libraries for overall analysis\n",
    "import warnings\n",
    "warnings.filterwarnings('ignore')"
   ]
  },
  {
   "cell_type": "code",
   "execution_count": 2,
   "id": "d0a11e6b",
   "metadata": {},
   "outputs": [],
   "source": [
    "import os\n",
    "import pandas as pd\n",
    "import numpy as np\n",
    "import random\n",
    "import matplotlib.pyplot as plt\n",
    "%matplotlib inline\n",
    "\n",
    "from datetime import date, time, datetime\n",
    "import plotly.graph_objs as go\n",
    "import plotly.offline as pyo\n",
    "import plotly.figure_factory as ff\n",
    "import plotly.express as px\n",
    "from plotly import tools\n",
    "from plotly.subplots import make_subplots\n",
    "from plotly.offline import iplot"
   ]
  },
  {
   "cell_type": "code",
   "execution_count": 3,
   "id": "83616a02",
   "metadata": {},
   "outputs": [],
   "source": [
    "## loading application.csv file to a dataframe named bankloan\n",
    "bankloan=pd.read_csv(r\"C:\\Users\\ASUS\\Downloads\\application_data.csv\")"
   ]
  },
  {
   "cell_type": "code",
   "execution_count": null,
   "id": "ad069a8d",
   "metadata": {},
   "outputs": [],
   "source": [
    "## checking how the dataframe looks\n",
    "bankloan.head()"
   ]
  },
  {
   "cell_type": "code",
   "execution_count": null,
   "id": "066e22fc",
   "metadata": {},
   "outputs": [],
   "source": [
    "#checking null value percentage of 1-122 columns\n",
    "bankloan.iloc[:,0:122].isnull().sum()/len(bankloan)*100"
   ]
  },
  {
   "cell_type": "code",
   "execution_count": null,
   "id": "be8be718",
   "metadata": {},
   "outputs": [],
   "source": [
    "## getting the information about the dataframe created above\n",
    "bankloan.info(verbose=True,null_counts=True)"
   ]
  },
  {
   "cell_type": "code",
   "execution_count": null,
   "id": "4a0905cb",
   "metadata": {},
   "outputs": [],
   "source": [
    "## describing the dataframe\n",
    "bankloan.describe()"
   ]
  },
  {
   "cell_type": "code",
   "execution_count": null,
   "id": "0868cb52",
   "metadata": {},
   "outputs": [],
   "source": [
    "# checking the data types of all columns\n",
    "bankloan.dtypes.value_counts()"
   ]
  },
  {
   "cell_type": "code",
   "execution_count": null,
   "id": "2c52605d",
   "metadata": {},
   "outputs": [],
   "source": [
    "#Checking the number of columns with null value percentage more than 30\n",
    "emptycolumn=bankloan.isnull().sum()\n",
    "emptycolumn=emptycolumn[emptycolumn.values>(0.3*len(bankloan))]\n",
    "len(emptycolumn)"
   ]
  },
  {
   "cell_type": "code",
   "execution_count": null,
   "id": "facf34b7",
   "metadata": {},
   "outputs": [],
   "source": [
    "# Checking the null value percentage for each column after dropping columns with more than 30% null values\n",
    "emptycolumn=list(emptycolumn[emptycolumn.values>0.3].index)\n",
    "bankloan.drop(labels=emptycolumn,axis=1,inplace=True)\n",
    "bankloan.isnull().sum()/len(bankloan)*100"
   ]
  },
  {
   "cell_type": "code",
   "execution_count": null,
   "id": "d451aee8",
   "metadata": {},
   "outputs": [],
   "source": [
    "# Getting all the names of columns after dropping the columns with null values more than 30%\n",
    "bankloan.columns"
   ]
  },
  {
   "cell_type": "code",
   "execution_count": null,
   "id": "1672bf9e",
   "metadata": {},
   "outputs": [],
   "source": [
    "#Imputing the null values of the column named AMT_ANNUITY by its median\n",
    "bankloan.AMT_ANNUITY=bankloan.AMT_ANNUITY.fillna(bankloan['AMT_ANNUITY'].median())"
   ]
  },
  {
   "cell_type": "code",
   "execution_count": null,
   "id": "695b786e",
   "metadata": {},
   "outputs": [],
   "source": [
    "bankloan.isnull().sum()"
   ]
  },
  {
   "cell_type": "code",
   "execution_count": null,
   "id": "ab313b7e",
   "metadata": {},
   "outputs": [],
   "source": [
    "# Checking for wrong data in wrong column\n",
    "bankloan[bankloan.CNT_FAM_MEMBERS.isnull()]"
   ]
  },
  {
   "cell_type": "code",
   "execution_count": null,
   "id": "7d9fae9f",
   "metadata": {},
   "outputs": [],
   "source": [
    "#List of non_relevant columns\n",
    "nonrelevant=['FLAG_MOBIL','FLAG_EMP_PHONE','FLAG_WORK_PHONE','FLAG_CONT_MOBILE','FLAG_PHONE','FLAG_EMAIL','REGION_RATING_CLIENT','CNT_FAM_MEMBERS','REGION_RATING_CLIENT_W_CITY','DAYS_LAST_PHONE_CHANGE','FLAG_DOCUMENT_2','FLAG_DOCUMENT_3','FLAG_DOCUMENT_4','FLAG_DOCUMENT_5','FLAG_DOCUMENT_6','FLAG_DOCUMENT_7','FLAG_DOCUMENT_8','FLAG_DOCUMENT_9','FLAG_DOCUMENT_10','FLAG_DOCUMENT_11','FLAG_DOCUMENT_12','FLAG_DOCUMENT_13','FLAG_DOCUMENT_14','FLAG_DOCUMENT_15','FLAG_DOCUMENT_16','FLAG_DOCUMENT_17','FLAG_DOCUMENT_18','FLAG_DOCUMENT_19','FLAG_DOCUMENT_20','FLAG_DOCUMENT_21']"
   ]
  },
  {
   "cell_type": "code",
   "execution_count": null,
   "id": "3b2b965f",
   "metadata": {},
   "outputs": [],
   "source": [
    "#Checking the number of non-relevant columns\n",
    "len(nonrelevant)"
   ]
  },
  {
   "cell_type": "code",
   "execution_count": null,
   "id": "99119945",
   "metadata": {},
   "outputs": [],
   "source": [
    "#Dropping non_relevant columns from the main dataframe\n",
    "bankloan.drop(labels=nonrelevant,axis=1,inplace=True)\n",
    "bankloan.info()"
   ]
  },
  {
   "cell_type": "code",
   "execution_count": null,
   "id": "37b2afa6",
   "metadata": {},
   "outputs": [],
   "source": [
    "#Checking how the dataframe looks after performing all above mentioned operations\n",
    "bankloan.head()"
   ]
  },
  {
   "cell_type": "code",
   "execution_count": null,
   "id": "9f0557c6",
   "metadata": {
    "scrolled": true
   },
   "outputs": [],
   "source": [
    "bankloan.columns"
   ]
  },
  {
   "cell_type": "code",
   "execution_count": null,
   "id": "16608245",
   "metadata": {},
   "outputs": [],
   "source": [
    "#Checking for undefined values in column named CODE_GENDER\n",
    "bankloan.CODE_GENDER.value_counts()"
   ]
  },
  {
   "cell_type": "code",
   "execution_count": null,
   "id": "6c126532",
   "metadata": {},
   "outputs": [],
   "source": [
    "#Imputing the undefined value of the column CODE_GENDER with F as the number is too less\n",
    "bankloan.loc[bankloan['CODE_GENDER']=='XNA']='F'\n",
    "bankloan.CODE_GENDER.value_counts()"
   ]
  },
  {
   "cell_type": "code",
   "execution_count": null,
   "id": "50bfc71c",
   "metadata": {},
   "outputs": [],
   "source": [
    "bankloan.NAME_CONTRACT_TYPE.value_counts()"
   ]
  },
  {
   "cell_type": "code",
   "execution_count": null,
   "id": "bf3b158e",
   "metadata": {},
   "outputs": [],
   "source": [
    "bankloan.NAME_FAMILY_STATUS.value_counts()"
   ]
  },
  {
   "cell_type": "code",
   "execution_count": null,
   "id": "7ddaced1",
   "metadata": {},
   "outputs": [],
   "source": [
    "bankloan.NAME_FAMILY_STATUS=bankloan.NAME_FAMILY_STATUS.apply(lambda x: x.replace('/','or'))"
   ]
  },
  {
   "cell_type": "code",
   "execution_count": null,
   "id": "76a50ab2",
   "metadata": {},
   "outputs": [],
   "source": [
    "bankloan.NAME_FAMILY_STATUS.value_counts()"
   ]
  },
  {
   "cell_type": "code",
   "execution_count": null,
   "id": "017b4fb5",
   "metadata": {},
   "outputs": [],
   "source": [
    "bankloan.NAME_HOUSING_TYPE.value_counts()"
   ]
  },
  {
   "cell_type": "code",
   "execution_count": null,
   "id": "ccaab56c",
   "metadata": {},
   "outputs": [],
   "source": [
    "bankloan.NAME_HOUSING_TYPE=bankloan.NAME_HOUSING_TYPE.apply(lambda x: x.replace('/','or'))"
   ]
  },
  {
   "cell_type": "code",
   "execution_count": null,
   "id": "2573acde",
   "metadata": {},
   "outputs": [],
   "source": [
    "bankloan.NAME_INCOME_TYPE.value_counts()"
   ]
  },
  {
   "cell_type": "code",
   "execution_count": null,
   "id": "34baa2ea",
   "metadata": {},
   "outputs": [],
   "source": [
    "bankloan.ORGANIZATION_TYPE.value_counts()"
   ]
  },
  {
   "cell_type": "code",
   "execution_count": null,
   "id": "b3cdb5e6",
   "metadata": {},
   "outputs": [],
   "source": [
    "bankloan=bankloan[~(bankloan.ORGANIZATION_TYPE=='XNA')]"
   ]
  },
  {
   "cell_type": "code",
   "execution_count": null,
   "id": "4e786bfc",
   "metadata": {},
   "outputs": [],
   "source": [
    "bankloan.ORGANIZATION_TYPE.value_counts()"
   ]
  },
  {
   "cell_type": "code",
   "execution_count": null,
   "id": "2d76660e",
   "metadata": {},
   "outputs": [],
   "source": [
    "bankloan.REG_CITY_NOT_LIVE_CITY.value_counts()"
   ]
  },
  {
   "cell_type": "code",
   "execution_count": null,
   "id": "550188bc",
   "metadata": {},
   "outputs": [],
   "source": [
    "bankloan.loc[bankloan.REG_CITY_NOT_LIVE_CITY=='F']=0"
   ]
  },
  {
   "cell_type": "code",
   "execution_count": null,
   "id": "01977f2c",
   "metadata": {},
   "outputs": [],
   "source": [
    "bankloan.REG_CITY_NOT_LIVE_CITY.value_counts()"
   ]
  },
  {
   "cell_type": "code",
   "execution_count": null,
   "id": "417f2346",
   "metadata": {},
   "outputs": [],
   "source": [
    "#Converting columns to numeric\n",
    "ncs=['TARGET','CNT_CHILDREN','AMT_INCOME_TOTAL','AMT_CREDIT','AMT_ANNUITY','REGION_POPULATION_RELATIVE','DAYS_BIRTH','DAYS_EMPLOYED','DAYS_REGISTRATION','DAYS_ID_PUBLISH','HOUR_APPR_PROCESS_START','LIVE_REGION_NOT_WORK_REGION', 'REG_CITY_NOT_LIVE_CITY','REG_CITY_NOT_WORK_CITY', 'LIVE_CITY_NOT_WORK_CITY']\n",
    "bankloan[ncs]=bankloan[ncs].apply(pd.to_numeric)\n",
    "bankloan.head()"
   ]
  },
  {
   "cell_type": "code",
   "execution_count": null,
   "id": "65728e17",
   "metadata": {},
   "outputs": [],
   "source": [
    "# Converting '-ve' values into '+ve' Values\n",
    "bankloan['DAYS_BIRTH'] = bankloan['DAYS_BIRTH'].abs()\n",
    "bankloan['DAYS_EMPLOYED'] = bankloan['DAYS_EMPLOYED'].abs()\n",
    "bankloan['DAYS_REGISTRATION'] = bankloan['DAYS_REGISTRATION'].abs()\n",
    "bankloan['DAYS_ID_PUBLISH'] = bankloan['DAYS_ID_PUBLISH'].abs()"
   ]
  },
  {
   "cell_type": "code",
   "execution_count": null,
   "id": "720642fb",
   "metadata": {},
   "outputs": [],
   "source": [
    "#Converting number of days of birth and employed into years \n",
    "\n",
    "bankloan.DAYS_BIRTH=bankloan.DAYS_BIRTH.values/365\n"
   ]
  },
  {
   "cell_type": "code",
   "execution_count": null,
   "id": "c06f772c",
   "metadata": {},
   "outputs": [],
   "source": [
    "incomebins=[25000,275000,525000,775000,1025000,1275000,1525000]\n",
    "incomeslots = ['25000-275000','275000-525000','525000-775000','775000-1025000','1025000-1275000','1275000 and above']\n",
    "bankloan['Income_range']=pd.cut(bankloan['AMT_INCOME_TOTAL'],bins=incomebins,labels=incomeslots)"
   ]
  },
  {
   "cell_type": "code",
   "execution_count": null,
   "id": "0bca425c",
   "metadata": {},
   "outputs": [],
   "source": [
    "creditbins = [45000,1045000,2045000,3045000,4045000,5045000]\n",
    "creditslots = ['45000-1045000','1045000-2045000','2045000-3045000','3045000-4045000','4045000-5045000']\n",
    "\n",
    "bankloan['CREDIT_RANGE'] = pd.cut(bankloan.AMT_CREDIT,bins=creditbins,labels=creditslots)"
   ]
  },
  {
   "cell_type": "code",
   "execution_count": null,
   "id": "b7c63f70",
   "metadata": {},
   "outputs": [],
   "source": [
    "bankloan.CREDIT_RANGE.value_counts()"
   ]
  },
  {
   "cell_type": "code",
   "execution_count": null,
   "id": "c3f4b7c3",
   "metadata": {},
   "outputs": [],
   "source": [
    "#Checking value counts for TARGET variable\n",
    "bankloan.TARGET.value_counts()"
   ]
  },
  {
   "cell_type": "code",
   "execution_count": null,
   "id": "d5052dd4",
   "metadata": {},
   "outputs": [],
   "source": [
    "box = go.Figure(go.Box(y = bankloan['AMT_CREDIT'],\n",
    "                       name = 'Amount Credit', x = bankloan['TARGET']))\n",
    "\n",
    "box.update_layout(title={'text': \"AMOUNT CREDIT\",\n",
    "                         'y':0.9,\n",
    "                         'x':0.5,\n",
    "                         'xanchor': 'center',\n",
    "                         'yanchor': 'top'},\n",
    "                  width = 800,\n",
    "                  height=450,\n",
    "                  template='plotly')   \n",
    "iplot(box)"
   ]
  },
  {
   "cell_type": "code",
   "execution_count": null,
   "id": "c20c0c5a",
   "metadata": {},
   "outputs": [],
   "source": [
    "box = go.Figure(go.Box(y = bankloan['AMT_INCOME_TOTAL'],\n",
    "                       name = 'Amount Income', x = bankloan['TARGET']))\n",
    "\n",
    "box.update_layout(title={'text': \"AMOUNT INCOME\",\n",
    "                         'y':0.9,\n",
    "                         'x':0.5,\n",
    "                         'xanchor': 'center',\n",
    "                         'yanchor': 'top'},\n",
    "                  width = 800,\n",
    "                  height=450,\n",
    "                  template='plotly')   \n",
    "iplot(box)"
   ]
  },
  {
   "cell_type": "code",
   "execution_count": null,
   "id": "d85a132f",
   "metadata": {},
   "outputs": [],
   "source": [
    "box = go.Figure(go.Box(y = bankloan['AMT_ANNUITY'],\n",
    "                       name = 'Amount Annuity', x = bankloan['TARGET']))\n",
    "\n",
    "box.update_layout(title={'text': \"AMOUNT ANNUITY\",\n",
    "                         'y':0.9,\n",
    "                         'x':0.5,\n",
    "                         'xanchor': 'center',\n",
    "                         'yanchor': 'top'},\n",
    "                  width = 800,\n",
    "                  height=450,\n",
    "                  template='plotly')   \n",
    "iplot(box)"
   ]
  },
  {
   "cell_type": "code",
   "execution_count": null,
   "id": "62016ce0",
   "metadata": {},
   "outputs": [],
   "source": [
    "import seaborn as sns"
   ]
  },
  {
   "cell_type": "code",
   "execution_count": null,
   "id": "b3a559d6",
   "metadata": {},
   "outputs": [],
   "source": [
    "sns.countplot(data=bankloan,x='NAME_CONTRACT_TYPE',order=bankloan.NAME_CONTRACT_TYPE.value_counts().index)\n",
    "plt.title('Contract Type \\n',fontdict={'fontsize': 15, 'fontweight' : 7, 'color' : 'Blue'})\n",
    "plt.show()"
   ]
  },
  {
   "cell_type": "code",
   "execution_count": null,
   "id": "bb3e3538",
   "metadata": {},
   "outputs": [],
   "source": [
    "sns.countplot(data=bankloan,x='CODE_GENDER',order=bankloan.CODE_GENDER.value_counts().index)\n",
    "plt.title('Gender \\n',fontdict={'fontsize': 15, 'fontweight' : 7, 'color' : 'Blue'})\n",
    "plt.show()"
   ]
  },
  {
   "cell_type": "code",
   "execution_count": null,
   "id": "4b399144",
   "metadata": {},
   "outputs": [],
   "source": [
    "ax = sns.countplot(data=bankloan,x='NAME_EDUCATION_TYPE',order=bankloan.NAME_EDUCATION_TYPE.value_counts().index)\n",
    "ax.set_xticklabels(ax.get_xticklabels(), rotation=40, ha=\"right\")\n",
    "plt.title('Education Type \\n',fontdict={'fontsize': 15, 'fontweight' : 7, 'color' : 'Blue'})\n",
    "plt.show()"
   ]
  },
  {
   "cell_type": "code",
   "execution_count": null,
   "id": "8ad9bd5f",
   "metadata": {},
   "outputs": [],
   "source": [
    "bankloan.CNT_CHILDREN.value_counts()"
   ]
  },
  {
   "cell_type": "code",
   "execution_count": null,
   "id": "71369829",
   "metadata": {},
   "outputs": [],
   "source": [
    "sns.countplot(data=bankloan,x='CNT_CHILDREN',order=bankloan.CNT_CHILDREN.value_counts().index)\n",
    "plt.title('COUNT Children \\n',fontdict={'fontsize': 15, 'fontweight' : 7, 'color' : 'Blue'})\n",
    "plt.show()"
   ]
  },
  {
   "cell_type": "code",
   "execution_count": null,
   "id": "dde9c5d1",
   "metadata": {},
   "outputs": [],
   "source": [
    "#Checking which income range of people are mostly applying for loans\n",
    "sns.countplot(bankloan.Income_range)\n",
    "plt.yscale('linear')\n",
    "plt.ylabel(\"Count\", fontdict={'fontsize': 12, 'fontweight' : 5, 'color' : 'Brown'})\n",
    "plt.xlabel(\"Income Range Values\", fontdict={'fontsize': 12, 'fontweight' : 5, 'color' : 'Brown'})\n",
    "plt.xticks(rotation=90)\n",
    "plt.title('AMOUNT INCOME\\n',fontdict={'fontsize': 15, 'fontweight' : 7, 'color' : 'Blue'})\n",
    "plt.show()"
   ]
  },
  {
   "cell_type": "code",
   "execution_count": null,
   "id": "e67b935c",
   "metadata": {},
   "outputs": [],
   "source": [
    "#Checking which income range of people are mostly applying for loans\n",
    "sns.countplot(bankloan.CREDIT_RANGE)\n",
    "plt.yscale('linear')\n",
    "plt.ylabel(\"Count\", fontdict={'fontsize': 12, 'fontweight' : 5, 'color' : 'Brown'})\n",
    "plt.xlabel(\"credit Range Values\", fontdict={'fontsize': 12, 'fontweight' : 5, 'color' : 'Brown'})\n",
    "plt.xticks(rotation=90)\n",
    "plt.title('AMOUNT CREDIT\\n',fontdict={'fontsize': 15, 'fontweight' : 7, 'color' : 'Blue'})\n",
    "plt.show()"
   ]
  },
  {
   "cell_type": "code",
   "execution_count": null,
   "id": "cf955ad4",
   "metadata": {},
   "outputs": [],
   "source": [
    "bankloan.CREDIT_RANGE"
   ]
  },
  {
   "cell_type": "code",
   "execution_count": null,
   "id": "25a5fc5f",
   "metadata": {},
   "outputs": [],
   "source": [
    "AGE = bankloan.DAYS_BIRTH.round()\n",
    "AGE"
   ]
  },
  {
   "cell_type": "code",
   "execution_count": null,
   "id": "a37c9398",
   "metadata": {},
   "outputs": [],
   "source": [
    "agebins = [20,35,50,65,80,]\n",
    "ageslots = ['20-35','30-50','50-65','65-80']\n",
    "\n",
    "bankloan['AGE_RANGE'] = pd.cut(AGE,bins=agebins,labels=ageslots)"
   ]
  },
  {
   "cell_type": "code",
   "execution_count": null,
   "id": "fb829a20",
   "metadata": {},
   "outputs": [],
   "source": [
    "bankloan.AGE_RANGE.value_counts()"
   ]
  },
  {
   "cell_type": "code",
   "execution_count": null,
   "id": "bbb64edf",
   "metadata": {},
   "outputs": [],
   "source": [
    "#Checking which income range of people are mostly applying for loans\n",
    "sns.countplot(bankloan.AGE_RANGE)\n",
    "plt.yscale('linear')\n",
    "plt.ylabel(\"Count\", fontdict={'fontsize': 12, 'fontweight' : 5, 'color' : 'Brown'})\n",
    "plt.xlabel(\"Age Range\", fontdict={'fontsize': 12, 'fontweight' : 5, 'color' : 'Brown'})\n",
    "plt.xticks(rotation=40)\n",
    "plt.title('AGE\\n',fontdict={'fontsize': 15, 'fontweight' : 7, 'color' : 'Blue'})\n",
    "plt.show()"
   ]
  },
  {
   "cell_type": "code",
   "execution_count": null,
   "id": "58df56fe",
   "metadata": {},
   "outputs": [],
   "source": [
    "bankloan.DAYS_EMPLOYED = bankloan.DAYS_EMPLOYED/30"
   ]
  },
  {
   "cell_type": "code",
   "execution_count": null,
   "id": "5f3172ed",
   "metadata": {},
   "outputs": [],
   "source": [
    "employed = bankloan.DAYS_EMPLOYED.round()"
   ]
  },
  {
   "cell_type": "code",
   "execution_count": null,
   "id": "1b9880f7",
   "metadata": {},
   "outputs": [],
   "source": [
    "employed"
   ]
  },
  {
   "cell_type": "code",
   "execution_count": null,
   "id": "b736f682",
   "metadata": {},
   "outputs": [],
   "source": [
    "employedbins = [0,100,200,300,400,500,600]\n",
    "employedslots = ['0-100','100-200','200-300','300-400','400-500','500-600']\n",
    "\n",
    "bankloan['EMPLOYED_RANGE'] = pd.cut(employed,bins=employedbins,labels=employedslots)"
   ]
  },
  {
   "cell_type": "code",
   "execution_count": null,
   "id": "c5c3d4b2",
   "metadata": {},
   "outputs": [],
   "source": [
    "#Checking which income range of people are mostly applying for loans\n",
    "sns.countplot(bankloan.EMPLOYED_RANGE)\n",
    "plt.yscale('linear')\n",
    "plt.ylabel(\"Count\", fontdict={'fontsize': 12, 'fontweight' : 5, 'color' : 'Brown'})\n",
    "plt.xlabel(\"Months Range\", fontdict={'fontsize': 12, 'fontweight' : 5, 'color' : 'Brown'})\n",
    "plt.xticks(rotation=40)\n",
    "plt.title('Months Employed\\n',fontdict={'fontsize': 15, 'fontweight' : 7, 'color' : 'Blue'})\n",
    "plt.show()"
   ]
  },
  {
   "cell_type": "code",
   "execution_count": null,
   "id": "a918390f",
   "metadata": {},
   "outputs": [],
   "source": [
    "sns.countplot(bankloan.NAME_HOUSING_TYPE)\n",
    "plt.yscale('linear')\n",
    "plt.ylabel(\"Count\", fontdict={'fontsize': 12, 'fontweight' : 5, 'color' : 'Brown'})\n",
    "plt.xlabel(\"housing type\", fontdict={'fontsize': 12, 'fontweight' : 5, 'color' : 'Brown'})\n",
    "plt.xticks(rotation=40)\n",
    "plt.title('Housing Type\\n',fontdict={'fontsize': 15, 'fontweight' : 7, 'color' : 'Blue'})\n",
    "plt.show()"
   ]
  },
  {
   "cell_type": "code",
   "execution_count": null,
   "id": "97e49fda",
   "metadata": {},
   "outputs": [],
   "source": [
    "sns.countplot(bankloan.NAME_FAMILY_STATUS)\n",
    "plt.yscale('linear')\n",
    "plt.ylabel(\"Count\", fontdict={'fontsize': 12, 'fontweight' : 5, 'color' : 'Brown'})\n",
    "plt.xlabel(\"Family Status\", fontdict={'fontsize': 12, 'fontweight' : 5, 'color' : 'Brown'})\n",
    "plt.xticks(rotation=90)\n",
    "plt.title('FAMILY STATUS\\n',fontdict={'fontsize': 15, 'fontweight' : 7, 'color' : 'Blue'})\n",
    "plt.show()"
   ]
  },
  {
   "cell_type": "code",
   "execution_count": null,
   "id": "d8ffa865",
   "metadata": {
    "scrolled": true
   },
   "outputs": [],
   "source": [
    "sns.countplot(bankloan.NAME_INCOME_TYPE)\n",
    "plt.yscale('linear')\n",
    "plt.ylabel(\"Count\", fontdict={'fontsize': 12, 'fontweight' : 5, 'color' : 'Brown'})\n",
    "plt.xlabel(\"Income Type\", fontdict={'fontsize': 12, 'fontweight' : 5, 'color' : 'Brown'})\n",
    "plt.xticks(rotation=90)\n",
    "plt.title('INCOME TYPE\\n',fontdict={'fontsize': 15, 'fontweight' : 7, 'color' : 'Blue'})\n",
    "plt.show()"
   ]
  },
  {
   "cell_type": "code",
   "execution_count": null,
   "id": "2eaab490",
   "metadata": {},
   "outputs": [],
   "source": [
    "bankloan.NAME_TYPE_SUITE.value_counts()"
   ]
  },
  {
   "cell_type": "code",
   "execution_count": null,
   "id": "baed92ff",
   "metadata": {},
   "outputs": [],
   "source": [
    "sns.countplot(bankloan.NAME_TYPE_SUITE)\n",
    "plt.yscale('linear')\n",
    "plt.ylabel(\"Count\", fontdict={'fontsize': 12, 'fontweight' : 5, 'color' : 'Brown'})\n",
    "plt.xlabel(\"Name Type suite\", fontdict={'fontsize': 12, 'fontweight' : 5, 'color' : 'Brown'})\n",
    "plt.xticks(rotation=90)\n",
    "plt.title('NAME TYPE SUITE\\n',fontdict={'fontsize': 15, 'fontweight' : 7, 'color' : 'Blue'})\n",
    "plt.show()"
   ]
  },
  {
   "cell_type": "code",
   "execution_count": null,
   "id": "2de09b04",
   "metadata": {},
   "outputs": [],
   "source": [
    "sns.countplot(bankloan.Income_range, hue=bankloan.TARGET)\n",
    "plt.yscale('log')\n",
    "plt.ylabel(\"Count in log\", fontdict={'fontsize': 12, 'fontweight' : 5, 'color' : 'Brown'})\n",
    "plt.xlabel(\"Income range\", fontdict={'fontsize': 12, 'fontweight' : 5, 'color' : 'Brown'})\n",
    "plt.xticks(rotation=90)\n",
    "plt.title('AMOUNT INCOME VS TARGET\\n',fontdict={'fontsize': 15, 'fontweight' : 7, 'color' : 'Blue'})\n",
    "plt.show()"
   ]
  },
  {
   "cell_type": "code",
   "execution_count": null,
   "id": "6f038785",
   "metadata": {},
   "outputs": [],
   "source": [
    "sns.countplot(bankloan.AGE_RANGE, hue=bankloan.TARGET)\n",
    "plt.yscale('linear')\n",
    "plt.ylabel(\"Count \", fontdict={'fontsize': 12, 'fontweight' : 5, 'color' : 'Brown'})\n",
    "plt.xlabel(\"Age range\", fontdict={'fontsize': 12, 'fontweight' : 5, 'color' : 'Brown'})\n",
    "plt.xticks(rotation=90)\n",
    "plt.title('AGE VS TARGET\\n',fontdict={'fontsize': 15, 'fontweight' : 7, 'color' : 'Blue'})\n",
    "plt.show()"
   ]
  },
  {
   "cell_type": "code",
   "execution_count": null,
   "id": "a8c3c8ea",
   "metadata": {},
   "outputs": [],
   "source": [
    "sns.countplot(bankloan.CODE_GENDER, hue=bankloan.TARGET)\n",
    "plt.yscale('linear')\n",
    "plt.ylabel(\"Count \", fontdict={'fontsize': 12, 'fontweight' : 5, 'color' : 'Brown'})\n",
    "plt.xlabel(\"Gender\", fontdict={'fontsize': 12, 'fontweight' : 5, 'color' : 'Brown'})\n",
    "plt.xticks(rotation=90)\n",
    "plt.title('GENDER VS TARGET\\n',fontdict={'fontsize': 15, 'fontweight' : 7, 'color' : 'Blue'})\n",
    "plt.show()"
   ]
  },
  {
   "cell_type": "code",
   "execution_count": null,
   "id": "46f0f366",
   "metadata": {},
   "outputs": [],
   "source": [
    "sns.countplot(bankloan.NAME_INCOME_TYPE, hue=bankloan.TARGET)\n",
    "plt.yscale('log')\n",
    "plt.ylabel(\"Count \", fontdict={'fontsize': 12, 'fontweight' : 5, 'color' : 'Brown'})\n",
    "plt.xlabel(\"Income type\", fontdict={'fontsize': 12, 'fontweight' : 5, 'color' : 'Brown'})\n",
    "plt.xticks(rotation=90)\n",
    "plt.title('INCOME TYPE VS TARGET\\n',fontdict={'fontsize': 15, 'fontweight' : 7, 'color' : 'Blue'})\n",
    "plt.show()"
   ]
  },
  {
   "cell_type": "code",
   "execution_count": null,
   "id": "ce433c3c",
   "metadata": {},
   "outputs": [],
   "source": [
    "# Dividing the dataset into two dataset of  target=1(client with payment difficulties) and target=0(all other)\n",
    "\n",
    "target0=bankloan.loc[bankloan[\"TARGET\"]==0]\n",
    "target1=bankloan.loc[bankloan[\"TARGET\"]==1]"
   ]
  },
  {
   "cell_type": "code",
   "execution_count": null,
   "id": "787a38ce",
   "metadata": {},
   "outputs": [],
   "source": [
    "target0.shape \n",
    "target1.shape"
   ]
  },
  {
   "cell_type": "code",
   "execution_count": null,
   "id": "6bb25e56",
   "metadata": {},
   "outputs": [],
   "source": [
    "# Checking the balance ratio of the dataframes created above\n",
    "round(len(target0)/len(target1),2)"
   ]
  },
  {
   "cell_type": "markdown",
   "id": "7b29680c",
   "metadata": {},
   "source": [
    "BIVARIATE ANALYSIS\n",
    "For Dataframe named target0"
   ]
  },
  {
   "cell_type": "code",
   "execution_count": null,
   "id": "11049951",
   "metadata": {},
   "outputs": [],
   "source": [
    "#Checking for Credit amount provided to the customers based on their Family type\n",
    "#and plotted according their Eduaction status\n",
    "plt.figure(figsize=(12,8))\n",
    "scale_factor=5\n",
    "sns.stripplot(data=target0,x=target0.NAME_FAMILY_STATUS,y=target0.AMT_CREDIT,hue=target0.NAME_EDUCATION_TYPE)\n",
    "plt.xticks(rotation=-30)\n",
    "plt.xlabel(\"FAMILY STATUS \", fontdict={'fontsize': 12, 'fontweight' : 5, 'color' : 'Brown'})\n",
    "plt.ylabel(\"CREDIT AMOUNT \", fontdict={'fontsize': 12, 'fontweight' : 5, 'color' : 'Brown'})\n",
    "plt.title('Credit amount vs Family Status \\n',fontdict={'fontsize': 18, 'fontweight' : 10, 'color' : 'Blue'})\n",
    "plt.show()"
   ]
  },
  {
   "cell_type": "code",
   "execution_count": null,
   "id": "5b60727b",
   "metadata": {},
   "outputs": [],
   "source": [
    "#Checking for Income amount of the customers based on their Family type \n",
    "#and plotted according their Education status\n",
    "plt.figure(figsize=(12,8))\n",
    "scale_factor=5\n",
    "sns.stripplot(data=target0,x=target0.NAME_FAMILY_STATUS,y=target0.AMT_INCOME_TOTAL,hue=target0.NAME_EDUCATION_TYPE)\n",
    "plt.xticks(rotation=-30)\n",
    "plt.xlabel(\"FAMILY STATUS \", fontdict={'fontsize': 12, 'fontweight' : 5, 'color' : 'Brown'})\n",
    "plt.ylabel(\"TOTAL INCOME AMOUNT \", fontdict={'fontsize': 12, 'fontweight' : 5, 'color' : 'Brown'})\n",
    "plt.yscale('log')\n",
    "plt.title('Total Income amount vs Family Status \\n',fontdict={'fontsize': 18, 'fontweight' : 10, 'color' : 'Blue'})\n",
    "plt.show()\n"
   ]
  },
  {
   "cell_type": "code",
   "execution_count": null,
   "id": "7c7ed19c",
   "metadata": {},
   "outputs": [],
   "source": [
    "#Checking for Credit amount provided to the customers based on their education \n",
    "#and plotted according the Contract types of loans they are applying for.\n",
    "plt.figure(figsize=(12,8))\n",
    "scale_factor=5\n",
    "sns.boxplot(data=target0,x=target0.NAME_EDUCATION_TYPE,y=target0.AMT_CREDIT,hue=target0.NAME_CONTRACT_TYPE)\n",
    "plt.xticks(rotation=-30)\n",
    "plt.xlabel(\"EDUCATION STATUS \", fontdict={'fontsize': 12, 'fontweight' : 5, 'color' : 'Brown'})\n",
    "plt.ylabel(\"CREDIT AMOUNT \", fontdict={'fontsize': 12, 'fontweight' : 5, 'color' : 'Brown'})\n",
    "plt.yscale('log')\n",
    "plt.title('Credit amount vs Education Status \\n',fontdict={'fontsize': 18, 'fontweight' : 10, 'color' : 'Blue'})\n",
    "plt.show()"
   ]
  },
  {
   "cell_type": "code",
   "execution_count": null,
   "id": "f4fda216",
   "metadata": {},
   "outputs": [],
   "source": [
    "#Checking for Income amount provided to the customers based on their education \n",
    "#and plotted according the Contract types of loans they are applying for.\n",
    "plt.figure(figsize=(12,8))\n",
    "scale_factor=5\n",
    "sns.barplot(data=target0,x=target0.NAME_EDUCATION_TYPE,y=target0.AMT_INCOME_TOTAL,hue=target0.NAME_CONTRACT_TYPE)\n",
    "plt.xticks(rotation=-30)\n",
    "plt.xlabel(\"EDUCATION STATUS \", fontdict={'fontsize': 12, 'fontweight' : 5, 'color' : 'Brown'})\n",
    "plt.ylabel(\"Total Income AMOUNT \", fontdict={'fontsize': 12, 'fontweight' : 5, 'color' : 'Brown'})\n",
    "plt.yscale('log')\n",
    "plt.title('Income amount vs Education Status \\n',fontdict={'fontsize': 18, 'fontweight' : 10, 'color' : 'Blue'})\n",
    "plt.show()\n"
   ]
  },
  {
   "cell_type": "markdown",
   "id": "5248a94f",
   "metadata": {},
   "source": [
    "For Dataframe named target1"
   ]
  },
  {
   "cell_type": "code",
   "execution_count": null,
   "id": "7f48fd32",
   "metadata": {},
   "outputs": [],
   "source": [
    "#Checking for Credit amount provided to the customers based on their education \n",
    "#and plotted according their family status\n",
    "plt.figure(figsize=(12,8))\n",
    "scale_factor=5\n",
    "sns.stripplot(data=target1,x=target1.NAME_EDUCATION_TYPE,y=target1.AMT_CREDIT,hue=target1.NAME_FAMILY_STATUS)\n",
    "plt.xticks(rotation=-30)\n",
    "plt.xlabel(\"EDUCATION STATUS \", fontdict={'fontsize': 12, 'fontweight' : 5, 'color' : 'Brown'})\n",
    "plt.ylabel(\"CREDIT AMOUNT \", fontdict={'fontsize': 12, 'fontweight' : 5, 'color' : 'Brown'})\n",
    "plt.yscale('log')\n",
    "plt.title('Credit amount vs Education Status \\n',fontdict={'fontsize': 18, 'fontweight' : 10, 'color' : 'Blue'})\n",
    "plt.show()"
   ]
  },
  {
   "cell_type": "code",
   "execution_count": null,
   "id": "33dc3d85",
   "metadata": {},
   "outputs": [],
   "source": [
    "#Checking for Income amount of the customers based on their education \n",
    "#and plotted according their family status\n",
    "plt.figure(figsize=(12,8))\n",
    "scale_factor=5\n",
    "sns.stripplot(data=target1,x=target1.NAME_FAMILY_STATUS,y=target1.AMT_INCOME_TOTAL,hue=target1.NAME_EDUCATION_TYPE)\n",
    "plt.xticks(rotation=-30)\n",
    "plt.xlabel(\"EDUCATION STATUS \", fontdict={'fontsize': 12, 'fontweight' : 5, 'color' : 'Brown'})\n",
    "plt.ylabel(\"TOTAL INCOME AMOUNT \", fontdict={'fontsize': 12, 'fontweight' : 5, 'color' : 'Brown'})\n",
    "plt.yscale('log')\n",
    "plt.title('Total Income amount vs Education Status \\n',fontdict={'fontsize': 18, 'fontweight' : 10, 'color' : 'Blue'})\n",
    "plt.show()\n"
   ]
  },
  {
   "cell_type": "code",
   "execution_count": null,
   "id": "740eb45c",
   "metadata": {},
   "outputs": [],
   "source": [
    "#Checking for Credit amount provided to the customers based on their education \n",
    "#and plotted according the Contract types of loans they are applying for.\n",
    "plt.figure(figsize=(12,8))\n",
    "scale_factor=5\n",
    "sns.stripplot(data=target1,x=target1.NAME_EDUCATION_TYPE,y=target1.AMT_CREDIT,hue=target1.NAME_CONTRACT_TYPE)\n",
    "plt.xticks(rotation=-30)\n",
    "plt.xlabel(\"EDUCATION STATUS \", fontdict={'fontsize': 12, 'fontweight' : 5, 'color' : 'Brown'})\n",
    "plt.ylabel(\"CREDIT AMOUNT \", fontdict={'fontsize': 12, 'fontweight' : 5, 'color' : 'Brown'})\n",
    "plt.yscale('linear')\n",
    "plt.title('Credit amount vs Education Status \\n',fontdict={'fontsize': 18, 'fontweight' : 10, 'color' : 'Blue'})\n",
    "plt.show()"
   ]
  },
  {
   "cell_type": "code",
   "execution_count": null,
   "id": "518ef9b5",
   "metadata": {},
   "outputs": [],
   "source": [
    "#Checking for Income amount provided to the customers based on their education \n",
    "#and plotted according the Contract types of loans they are applying for.\n",
    "plt.figure(figsize=(12,8))\n",
    "scale_factor=5\n",
    "sns.boxplot(data=target1,x=target1.NAME_EDUCATION_TYPE,y=target1.AMT_INCOME_TOTAL,hue=target1.NAME_CONTRACT_TYPE)\n",
    "plt.xticks(rotation=-30)\n",
    "plt.xlabel(\"EDUCATION STATUS \", fontdict={'fontsize': 12, 'fontweight' : 5, 'color' : 'Brown'})\n",
    "plt.ylabel(\"Total Income AMOUNT \", fontdict={'fontsize': 12, 'fontweight' : 5, 'color' : 'Brown'})\n",
    "plt.yscale('log')\n",
    "plt.title('Income amount vs Education Status \\n',fontdict={'fontsize': 18, 'fontweight' : 10, 'color' : 'Blue'})\n",
    "plt.show()\n"
   ]
  },
  {
   "cell_type": "code",
   "execution_count": null,
   "id": "0df3eaa7",
   "metadata": {},
   "outputs": [],
   "source": [
    "#Checking for Income amount provided to the customers based on their education \n",
    "#and plotted according the Contract types of loans they are applying for.\n",
    "plt.figure(figsize=(12,8))\n",
    "scale_factor=5\n",
    "sns.stripplot(data=target1,x=target1.NAME_EDUCATION_TYPE,y=target1.AMT_INCOME_TOTAL,hue=target1.NAME_CONTRACT_TYPE)\n",
    "plt.xticks(rotation=-30)\n",
    "plt.xlabel(\"EDUCATION STATUS \", fontdict={'fontsize': 12, 'fontweight' : 5, 'color' : 'Brown'})\n",
    "plt.ylabel(\"Total Income AMOUNT \", fontdict={'fontsize': 12, 'fontweight' : 5, 'color' : 'Brown'})\n",
    "plt.yscale('log')\n",
    "plt.title('Income amount vs Education Status \\n',fontdict={'fontsize': 18, 'fontweight' : 10, 'color' : 'Blue'})\n",
    "plt.show()\n"
   ]
  },
  {
   "cell_type": "code",
   "execution_count": null,
   "id": "9db52c83",
   "metadata": {},
   "outputs": [],
   "source": [
    "#Creating a correlation table between all the variables of targeto dataframe\n",
    "target0_correlation=target0.iloc[:,2:].corr()\n",
    "target0_correlation"
   ]
  },
  {
   "cell_type": "code",
   "execution_count": null,
   "id": "fc985d8d",
   "metadata": {},
   "outputs": [],
   "source": [
    "#plotting the correlation table of all variables of target0 dataframe\n",
    "f, ax = plt.subplots(figsize=(14, 9))\n",
    "sns.heatmap(target0_correlation,cmap='Reds',annot=True)\n",
    "plt.title('CORRELATION TABLE FOR target0 \\n',fontdict={'fontsize':18, 'fontweight' : 10, 'color' : 'Blue'})\n",
    "plt.xlabel(\"All columns of target0 \", fontdict={'fontsize': 12, 'fontweight' : 5, 'color' : 'Brown'})\n",
    "plt.ylabel(\"All Columns of target0 \", fontdict={'fontsize': 12, 'fontweight' : 5, 'color' : 'Brown'})\n",
    "plt.show()"
   ]
  },
  {
   "cell_type": "code",
   "execution_count": null,
   "id": "3c982047",
   "metadata": {},
   "outputs": [],
   "source": [
    "#Creating a correlation table between all the variables of targeto dataframe\n",
    "target1_correlation=target1.iloc[:,2:].corr()\n",
    "target1_correlation"
   ]
  },
  {
   "cell_type": "code",
   "execution_count": null,
   "id": "b7775024",
   "metadata": {},
   "outputs": [],
   "source": [
    "#plotting the correlation table of all variables of target1 dataframe\n",
    "f, ax = plt.subplots(figsize=(14, 9))\n",
    "sns.heatmap(target1_correlation, cmap='Blues',annot=True)\n",
    "plt.title('CORRELATION TABLE FOR target1 \\n',fontdict={'fontsize': 18, 'fontweight' : 10, 'color' : 'Blue'})\n",
    "plt.xlabel(\"All columns of target1 \", fontdict={'fontsize': 12, 'fontweight' : 5, 'color' : 'Brown'})\n",
    "plt.ylabel(\"All Columns of target1 \", fontdict={'fontsize': 12, 'fontweight' : 5, 'color' : 'Brown'})\n",
    "plt.show()"
   ]
  },
  {
   "cell_type": "code",
   "execution_count": null,
   "id": "dea4a8f2",
   "metadata": {},
   "outputs": [],
   "source": []
  },
  {
   "cell_type": "code",
   "execution_count": null,
   "id": "fec32652",
   "metadata": {},
   "outputs": [],
   "source": [
    "preloanapp=pd.read_csv(r\"C:\\Users\\ASUS\\Downloads\\previous_application.csv\")\n",
    "preloanapp.head()"
   ]
  },
  {
   "cell_type": "code",
   "execution_count": null,
   "id": "cae7c682",
   "metadata": {},
   "outputs": [],
   "source": [
    "preloanapp.shape"
   ]
  },
  {
   "cell_type": "code",
   "execution_count": null,
   "id": "7c931a36",
   "metadata": {},
   "outputs": [],
   "source": [
    "preloanapp.info()"
   ]
  },
  {
   "cell_type": "code",
   "execution_count": null,
   "id": "27ed3124",
   "metadata": {},
   "outputs": [],
   "source": [
    "preloanapp.describe()"
   ]
  },
  {
   "cell_type": "code",
   "execution_count": null,
   "id": "f8c58bbb",
   "metadata": {},
   "outputs": [],
   "source": [
    "preloanapp.isnull().sum()/len(preloanapp)*100"
   ]
  },
  {
   "cell_type": "code",
   "execution_count": null,
   "id": "c4a80c34",
   "metadata": {},
   "outputs": [],
   "source": [
    "#Checking the number of columns with null value percentage more than 40\n",
    "appempty1=preloanapp.isnull().sum()\n",
    "appempty1=appempty1[appempty1.values>(0.4*len(preloanapp))]\n",
    "len(appempty1)"
   ]
  },
  {
   "cell_type": "code",
   "execution_count": null,
   "id": "b3e03a5e",
   "metadata": {},
   "outputs": [],
   "source": [
    "preloanapp=preloanapp.drop(appempty1.index, axis=1)\n"
   ]
  },
  {
   "cell_type": "code",
   "execution_count": null,
   "id": "a143ed93",
   "metadata": {},
   "outputs": [],
   "source": [
    "preloanapp.info()"
   ]
  },
  {
   "cell_type": "code",
   "execution_count": null,
   "id": "d7abd03f",
   "metadata": {},
   "outputs": [],
   "source": [
    "box = go.Figure(go.Box(y = preloanapp['AMT_APPLICATION'],\n",
    "                       name = 'Amount Applied',))\n",
    "\n",
    "box.update_layout(title={'text': \"AMOUNT APPLIED\",\n",
    "                         'y':0.9,\n",
    "                         'x':0.5,\n",
    "                         'xanchor': 'center',\n",
    "                         'yanchor': 'top'},\n",
    "                  width = 800,\n",
    "                  height=450,\n",
    "                  template='plotly')   \n",
    "iplot(box)"
   ]
  },
  {
   "cell_type": "code",
   "execution_count": null,
   "id": "052c917a",
   "metadata": {},
   "outputs": [],
   "source": [
    "appliedbins=[0,500000,1000000,1500000,2000000,2500000,3000000,3500000,4000000,4500000,5000000,5500000,6000000,6500000,7000000]\n",
    "appliedslots = ['0-500000','500000-1000000','1000000-1500000','1500000-2000000','2000000-2500000', '2500000-3000000', '3000000-3500000','3500000-4000000','4000000-4500000','4500000-5000000','5000000-5500000','5500000-6000000','6000000-6500000','6500000-7000000']\n",
    "preloanapp['Income_applied']=pd.cut(preloanapp['AMT_APPLICATION'],bins=appliedbins,labels=appliedslots)"
   ]
  },
  {
   "cell_type": "code",
   "execution_count": null,
   "id": "91ee526e",
   "metadata": {},
   "outputs": [],
   "source": [
    "preloanapp.Income_applied.value_counts()"
   ]
  },
  {
   "cell_type": "code",
   "execution_count": null,
   "id": "880a7ade",
   "metadata": {},
   "outputs": [],
   "source": [
    "#Checking which income applied range of people are mostly applying for loans\n",
    "sns.countplot(preloanapp.Income_applied)\n",
    "plt.yscale('linear')\n",
    "plt.ylabel(\"Count \", fontdict={'fontsize': 12, 'fontweight' : 5, 'color' : 'Brown'})\n",
    "plt.xlabel(\"Income applied Range\", fontdict={'fontsize': 12, 'fontweight' : 5, 'color' : 'Brown'})\n",
    "plt.xticks(rotation=90)\n",
    "plt.title('AMOUNT APPLIED\\n',fontdict={'fontsize': 15, 'fontweight' : 7, 'color' : 'Blue'})\n",
    "plt.show()"
   ]
  },
  {
   "cell_type": "code",
   "execution_count": null,
   "id": "73b674b5",
   "metadata": {},
   "outputs": [],
   "source": [
    "credit1bins=[0,500000,1000000,1500000,2000000,2500000,3000000,3500000,4000000,4500000,5000000,5500000,6000000,6500000,7000000]\n",
    "credit1slots = ['0-500000','500000-1000000','1000000-1500000','1500000-2000000','2000000-2500000', '2500000-3000000', '3000000-3500000','3500000-4000000','4000000-4500000','4500000-5000000','5000000-5500000','5500000-6000000','6000000-6500000','6500000-7000000']\n",
    "preloanapp['Income_credit']=pd.cut(preloanapp['AMT_CREDIT'],bins=credit1bins,labels=credit1slots)"
   ]
  },
  {
   "cell_type": "code",
   "execution_count": null,
   "id": "22e1d675",
   "metadata": {},
   "outputs": [],
   "source": [
    "sns.countplot(preloanapp.Income_credit)\n",
    "plt.yscale('linear')\n",
    "plt.ylabel(\"Count \", fontdict={'fontsize': 12, 'fontweight' : 5, 'color' : 'Brown'})\n",
    "plt.xlabel(\"Income credit Range\", fontdict={'fontsize': 12, 'fontweight' : 5, 'color' : 'Brown'})\n",
    "plt.xticks(rotation=90)\n",
    "plt.title('AMOUNT CREDIT\\n',fontdict={'fontsize': 15, 'fontweight' : 7, 'color' : 'Blue'})\n",
    "plt.show()"
   ]
  },
  {
   "cell_type": "code",
   "execution_count": null,
   "id": "4e67d695",
   "metadata": {},
   "outputs": [],
   "source": [
    "preloanapp.FLAG_LAST_APPL_PER_CONTRACT.value_counts() "
   ]
  },
  {
   "cell_type": "code",
   "execution_count": null,
   "id": "3b98ef4b",
   "metadata": {},
   "outputs": [],
   "source": [
    "sns.countplot(preloanapp.FLAG_LAST_APPL_PER_CONTRACT)\n",
    "plt.ylabel(\"Count\", fontdict={'fontsize': 12, 'fontweight' : 5, 'color' : 'Brown'})\n",
    "plt.xticks(rotation=90)\n",
    "plt.title('LAST APP CONTRACT\\n',fontdict={'fontsize': 15, 'fontweight' : 7, 'color' : 'Blue'})\n",
    "plt.show()"
   ]
  },
  {
   "cell_type": "code",
   "execution_count": null,
   "id": "bcf9d1cc",
   "metadata": {},
   "outputs": [],
   "source": [
    "sellerbins=[-1,9999,19999,29999,39999,49999,59999,69999,79999,89999,99999,109999,119999,409999]\n",
    "sellerslots = ['-1-9999','9999-19999','19999-29999','29999-39999','39999-49999', '49999-59999', '59999-69999','69999-79999','79999-89999','89999-99999','99999-109999','109999-119999','119999-409999']\n",
    "preloanapp['Sellerplace_range']=pd.cut(preloanapp['SELLERPLACE_AREA'],bins=sellerbins,labels=sellerslots)"
   ]
  },
  {
   "cell_type": "code",
   "execution_count": null,
   "id": "84740950",
   "metadata": {},
   "outputs": [],
   "source": [
    "sns.countplot(preloanapp.Sellerplace_range)\n",
    "plt.yscale('linear')\n",
    "plt.ylabel(\"Count \", fontdict={'fontsize': 12, 'fontweight' : 5, 'color' : 'Brown'})\n",
    "plt.xlabel(\"Income credit Range\", fontdict={'fontsize': 12, 'fontweight' : 5, 'color' : 'Brown'})\n",
    "plt.xticks(rotation=90)\n",
    "plt.title('AMOUNT CREDIT\\n',fontdict={'fontsize': 15, 'fontweight' : 7, 'color' : 'Blue'})\n",
    "plt.show()"
   ]
  },
  {
   "cell_type": "code",
   "execution_count": null,
   "id": "5c996ff2",
   "metadata": {},
   "outputs": [],
   "source": [
    " preloanapp.NAME_CLIENT_TYPE.value_counts()"
   ]
  },
  {
   "cell_type": "code",
   "execution_count": null,
   "id": "65587cca",
   "metadata": {},
   "outputs": [],
   "source": [
    "sns.countplot(preloanapp.NAME_CLIENT_TYPE )\n",
    "plt.xlabel(\"Client type\", fontdict={'fontsize': 12, 'fontweight' : 5, 'color' : 'Brown'})\n",
    "plt.xticks(rotation=90)\n",
    "plt.title('CLIENT TYPE\\n',fontdict={'fontsize': 15, 'fontweight' : 7, 'color' : 'Blue'})\n",
    "plt.show()"
   ]
  },
  {
   "cell_type": "code",
   "execution_count": null,
   "id": "2d2dcec7",
   "metadata": {},
   "outputs": [],
   "source": [
    "preloanapp.NAME_SELLER_INDUSTRY.value_counts()"
   ]
  },
  {
   "cell_type": "code",
   "execution_count": null,
   "id": "fa93a5e4",
   "metadata": {},
   "outputs": [],
   "source": [
    "sns.countplot(preloanapp.NAME_SELLER_INDUSTRY )\n",
    "plt.xlabel(\"Seller industry\", fontdict={'fontsize': 12, 'fontweight' : 5, 'color' : 'Brown'})\n",
    "plt.xticks(rotation=90)\n",
    "plt.title('SELLER INDUSTRY\\n',fontdict={'fontsize': 15, 'fontweight' : 7, 'color' : 'Blue'})\n",
    "plt.show()"
   ]
  },
  {
   "cell_type": "code",
   "execution_count": null,
   "id": "a8e38f5c",
   "metadata": {},
   "outputs": [],
   "source": [
    "#Merging the two dataframes created above\n",
    "mergedloandf=bankloan.merge(preloanapp,on='SK_ID_CURR')"
   ]
  },
  {
   "cell_type": "code",
   "execution_count": null,
   "id": "79368c2c",
   "metadata": {},
   "outputs": [],
   "source": [
    "#Checking how the merged dataframe looks like\n",
    "mergedloandf.head()"
   ]
  },
  {
   "cell_type": "code",
   "execution_count": null,
   "id": "2b4890f6",
   "metadata": {},
   "outputs": [],
   "source": [
    "#Finding information about the combined dataframe\n",
    "mergedloandf.info()"
   ]
  },
  {
   "cell_type": "code",
   "execution_count": null,
   "id": "34f7284b",
   "metadata": {},
   "outputs": [],
   "source": [
    "#Renaming the columns as convention\n",
    "mergedloandf = mergedloandf.rename({'NAME_CONTRACT_TYPE_x' : 'NAME_CONTRACT_TYPE','AMT_CREDIT_x':'AMT_CREDIT','AMT_ANNUITY_x':'AMT_ANNUITY',\n",
    "                         'WEEKDAY_APPR_PROCESS_START_x' : 'WEEKDAY_APPR_PROCESS_START','AMT_GOODS_PRICE_x':'AMT_GOODS_PRICE',\n",
    "                         'HOUR_APPR_PROCESS_START_x':'HOUR_APPR_PROCESS_START','NAME_CONTRACT_TYPE_y':'NAME_CONTRACT_TYPE_PREV',\n",
    "                         'AMT_CREDIT_y':'AMT_CREDIT_PREV','AMT_ANNUITY_y':'AMT_ANNUITY_PREV','AMT_GOODS_PRICE_y':'AMT_GOODS_PRICE_PREV',\n",
    "                         'WEEKDAY_APPR_PROCESS_START_y':'WEEKDAY_APPR_PROCESS_START_PREV',\n",
    "                         'HOUR_APPR_PROCESS_START_y':'HOUR_APPR_PROCESS_START_PREV'}, axis=1)"
   ]
  },
  {
   "cell_type": "code",
   "execution_count": null,
   "id": "ff430474",
   "metadata": {},
   "outputs": [],
   "source": [
    "#Droppng the non relevant columns of the dataframe\n",
    "mergedloandf.drop(['SK_ID_CURR','WEEKDAY_APPR_PROCESS_START', 'HOUR_APPR_PROCESS_START','REG_REGION_NOT_LIVE_REGION', \n",
    "              'REG_REGION_NOT_WORK_REGION','LIVE_REGION_NOT_WORK_REGION', 'REG_CITY_NOT_LIVE_CITY',\n",
    "              'REG_CITY_NOT_WORK_CITY', 'LIVE_CITY_NOT_WORK_CITY','WEEKDAY_APPR_PROCESS_START_PREV',\n",
    "              'HOUR_APPR_PROCESS_START_PREV', 'FLAG_LAST_APPL_PER_CONTRACT','NFLAG_LAST_APPL_IN_DAY'],axis=1,inplace=True)"
   ]
  },
  {
   "cell_type": "code",
   "execution_count": null,
   "id": "7a66af29",
   "metadata": {},
   "outputs": [],
   "source": [
    "mergedloandf.info()"
   ]
  },
  {
   "cell_type": "code",
   "execution_count": null,
   "id": "f939853a",
   "metadata": {},
   "outputs": [],
   "source": [
    "#Checking for null value percentage\n",
    "mergedloandf.isnull().sum()/len(mergedloandf)*100"
   ]
  },
  {
   "cell_type": "code",
   "execution_count": null,
   "id": "5aae300c",
   "metadata": {},
   "outputs": [],
   "source": [
    "#Checkng the Product combination with respect to Type of contract \n",
    "sns.countplot(mergedloandf.PRODUCT_COMBINATION,hue=mergedloandf.NAME_CONTRACT_TYPE)\n",
    "plt.yscale('log')\n",
    "plt.title('Count of Product Combinations W.R.T Contract Type \\n',fontdict={'fontsize': 18, 'fontweight' : 10, 'color' : 'Blue'})\n",
    "plt.legend(bbox_to_anchor=(1.36,1))\n",
    "plt.xticks(rotation=90)\n",
    "plt.show()"
   ]
  },
  {
   "cell_type": "code",
   "execution_count": null,
   "id": "948a38a5",
   "metadata": {},
   "outputs": [],
   "source": [
    "#Checking Product combination with respect to Status of the Contract\n",
    "sns.countplot(mergedloandf.PRODUCT_COMBINATION,hue=mergedloandf.NAME_CONTRACT_STATUS)\n",
    "plt.yscale('log')\n",
    "plt.title('Count of Product Combinations W.R.T Contract Status \\n',fontdict={'fontsize': 18, 'fontweight' : 10, 'color' : 'Blue'})\n",
    "plt.legend(bbox_to_anchor=(1,1))\n",
    "plt.xticks(rotation=90)\n",
    "plt.show()"
   ]
  },
  {
   "cell_type": "code",
   "execution_count": null,
   "id": "f85d4f64",
   "metadata": {},
   "outputs": [],
   "source": [
    "#Plotting countplot for checking what loan purpose people are applying for loans \n",
    "# and are actually getting the loans \n",
    "plt.figure(figsize=(12,12))\n",
    "plt.xticks(rotation=30)\n",
    "plt.xscale('log')\n",
    "plt.ylabel(\"NAME_CONTRACT_STATUS\", fontdict={'fontsize': 12, 'fontweight' : 5, 'color' : 'Brown'})\n",
    "plt.yticks(rotation=30)\n",
    "plt.title('Distribution of Loan Purpose w.r.t Contract Status\\n',fontdict={'fontsize': 15, 'fontweight' : 7, 'color' : 'Blue'})\n",
    "sns.countplot(data=mergedloandf,y='NAME_CASH_LOAN_PURPOSE',order=mergedloandf['NAME_CASH_LOAN_PURPOSE'].value_counts().index,hue='NAME_CONTRACT_STATUS')\n",
    "plt.show()"
   ]
  },
  {
   "cell_type": "code",
   "execution_count": null,
   "id": "c37f6516",
   "metadata": {},
   "outputs": [],
   "source": [
    "#Plotting countplot for checking which types of incomes of people are applying for loans \n",
    "# and are actually capable of paying back the loans\n",
    "plt.figure(figsize=(8,6))\n",
    "plt.xticks(rotation=30)\n",
    "plt.xscale('log')\n",
    "plt.ylabel(\"NAME_INCOME_TYPE\", fontdict={'fontsize': 12, 'fontweight' : 5, 'color' : 'Brown'})\n",
    "plt.xlabel(\"count\", fontdict={'fontsize': 12, 'fontweight' : 5, 'color' : 'Brown'})\n",
    "plt.yticks(rotation=30)\n",
    "plt.title('Distribution of Income Types w.r.t TARGET\\n',fontdict={'fontsize': 15, 'fontweight' : 7, 'color' : 'Blue'})\n",
    "sns.countplot(data=mergedloandf,y='NAME_INCOME_TYPE',order=mergedloandf['NAME_INCOME_TYPE'].value_counts().index,hue='TARGET')\n",
    "plt.show()"
   ]
  },
  {
   "cell_type": "code",
   "execution_count": null,
   "id": "7942abd5",
   "metadata": {},
   "outputs": [],
   "source": [
    "#Plotting countplot for checking what loan purpose people are applying for loans \n",
    "# and are actually capable of paying back \n",
    "plt.figure(figsize=(12,10))\n",
    "plt.xticks(rotation=30)\n",
    "plt.xscale('log')\n",
    "plt.ylabel('NAME_CASH_LOAN_PURPOSE', fontdict={'fontsize': 12, 'fontweight' : 5, 'color' : 'Brown'})\n",
    "plt.xlabel(\"count\", fontdict={'fontsize': 12, 'fontweight' : 5, 'color' : 'Brown'})\n",
    "plt.yticks(rotation=30)\n",
    "plt.title('Distribution of Loan Purpose w.r.t TARGET\\n',fontdict={'fontsize': 15, 'fontweight' : 7, 'color' : 'Blue'})\n",
    "sns.countplot(data=mergedloandf,y='NAME_CASH_LOAN_PURPOSE',order=mergedloandf.NAME_CASH_LOAN_PURPOSE.value_counts().index,hue='TARGET')\n",
    "plt.show()"
   ]
  },
  {
   "cell_type": "code",
   "execution_count": null,
   "id": "5088393d",
   "metadata": {},
   "outputs": [],
   "source": [
    "#Checking for Amount credited previously against Purpose of loan with respect to \n",
    "plt.figure(figsize=(18,15),dpi=400)\n",
    "sns.stripplot(data=mergedloandf,y='AMT_CREDIT_PREV',x='NAME_CASH_LOAN_PURPOSE',hue='NAME_INCOME_TYPE')\n",
    "plt.xticks(rotation=90)\n",
    "plt.yscale('log')\n",
    "plt.ylabel(\"AMT_CREDIT_PREV\", fontdict={'fontsize': 12, 'fontweight' : 5, 'color' : 'Brown'})\n",
    "plt.xlabel(\"count\", fontdict={'fontsize': 12, 'fontweight' : 5, 'color' : 'Brown'})\n",
    "plt.yticks(rotation=30)\n",
    "plt.title('Distribution of Loan Purpose w.r.t TARGET\\n',fontdict={'fontsize': 15, 'fontweight' : 7, 'color' : 'Blue'})\n",
    "plt.show()"
   ]
  },
  {
   "cell_type": "code",
   "execution_count": null,
   "id": "01c1bf96",
   "metadata": {},
   "outputs": [],
   "source": [
    "#Checking for Amount Credited vs housing type with respect to target\n",
    "plt.figure(figsize=(8,6))\n",
    "sns.barplot(data=mergedloandf,y='AMT_CREDIT_PREV',hue='TARGET',x='NAME_HOUSING_TYPE')\n",
    "plt.xticks(rotation=90)\n",
    "plt.ylabel(\"AMT_CREDIT_PREV\", fontdict={'fontsize': 12, 'fontweight' : 5, 'color' : 'Brown'})\n",
    "plt.xlabel(\"count\", fontdict={'fontsize': 12, 'fontweight' : 5, 'color' : 'Brown'})\n",
    "plt.yticks(rotation=30)\n",
    "plt.title('Distribution of Amount Credited previously  vs Housing Type w.r.t TARGET\\n',fontdict={'fontsize': 15, 'fontweight' : 7, 'color' : 'Blue'})\n",
    "plt.show()"
   ]
  },
  {
   "cell_type": "code",
   "execution_count": null,
   "id": "5e25f2b7",
   "metadata": {},
   "outputs": [],
   "source": [
    "#Checking for Amount Credited vs Education type with respect to Contract Status\n",
    "plt.figure(figsize=(8,6))\n",
    "sns.stripplot(data=mergedloandf,y='AMT_CREDIT_PREV',hue='NAME_CONTRACT_STATUS',x='NAME_EDUCATION_TYPE')\n",
    "plt.xticks(rotation=90)\n",
    "plt.ylabel(\"AMT_CREDIT_PREV\", fontdict={'fontsize': 12, 'fontweight' : 5, 'color' : 'Brown'})\n",
    "plt.xlabel(\"count\", fontdict={'fontsize': 12, 'fontweight' : 5, 'color' : 'Brown'})\n",
    "plt.yticks(rotation=30)\n",
    "plt.yscale('log')\n",
    "plt.legend(bbox_to_anchor=(1.26,1))\n",
    "plt.title('Distribution of Amount Credited previously  vs Education Type w.r.t Contract Status\\n',fontdict={'fontsize': 15, 'fontweight' : 7, 'color' : 'Blue'})\n",
    "plt.show()"
   ]
  },
  {
   "cell_type": "code",
   "execution_count": null,
   "id": "ced2559e",
   "metadata": {},
   "outputs": [],
   "source": [
    "#Dropping column named SK_ID_PREV for getting correlation of other columns\n",
    "mergedloandf1=mergedloandf.drop('SK_ID_PREV', axis=1)"
   ]
  },
  {
   "cell_type": "code",
   "execution_count": null,
   "id": "132c95bf",
   "metadata": {},
   "outputs": [],
   "source": [
    "#Calculating the correlations of vaious columns for merged dataframe\n",
    "mergedloandfcorrelation=mergedloandf1.iloc[:,:].corr()\n",
    "mergedloandfcorrelation"
   ]
  },
  {
   "cell_type": "code",
   "execution_count": null,
   "id": "ba7cd65e",
   "metadata": {},
   "outputs": [],
   "source": [
    "#Plotting a heatmap for correlation obtained above\n",
    "f, ax = plt.subplots(figsize=(14, 9))\n",
    "sns.heatmap(mergedloandfcorrelation, cmap='Greys',annot=True)\n",
    "plt.title('CORRELATION TABLE FOR mergedloandf1 \\n',fontdict={'fontsize': 18, 'fontweight' : 10, 'color' : 'Red'})\n",
    "plt.xlabel(\"All columns of mergedloandf1 \", fontdict={'fontsize': 12, 'fontweight' : 5, 'color' : 'Brown'})\n",
    "plt.ylabel(\"All Columns of mergedloandf1 \", fontdict={'fontsize': 12, 'fontweight' : 5, 'color' : 'Brown'})\n",
    "plt.show()"
   ]
  },
  {
   "cell_type": "code",
   "execution_count": null,
   "id": "2c5316a4",
   "metadata": {},
   "outputs": [],
   "source": []
  }
 ],
 "metadata": {
  "kernelspec": {
   "display_name": "Python 3 (ipykernel)",
   "language": "python",
   "name": "python3"
  },
  "language_info": {
   "codemirror_mode": {
    "name": "ipython",
    "version": 3
   },
   "file_extension": ".py",
   "mimetype": "text/x-python",
   "name": "python",
   "nbconvert_exporter": "python",
   "pygments_lexer": "ipython3",
   "version": "3.9.12"
  }
 },
 "nbformat": 4,
 "nbformat_minor": 5
}
